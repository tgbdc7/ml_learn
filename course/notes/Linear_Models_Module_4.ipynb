{
 "cells": [
  {
   "cell_type": "markdown",
   "id": "821b48ad",
   "metadata": {},
   "source": [
    "# Linear Models"
   ]
  },
  {
   "cell_type": "markdown",
   "id": "b694202b",
   "metadata": {},
   "source": [
    "For regression: linear regression"
   ]
  },
  {
   "cell_type": "markdown",
   "id": "ed81a8e8",
   "metadata": {},
   "source": [
    "For classification: logistic regression"
   ]
  },
  {
   "cell_type": "markdown",
   "id": "40a29405",
   "metadata": {},
   "source": [
    "feature engineering -? "
   ]
  },
  {
   "cell_type": "markdown",
   "id": "3392578e",
   "metadata": {},
   "source": [
    "### mean_squared_error vs mean_absolute_error "
   ]
  },
  {
   "cell_type": "markdown",
   "id": "76a2bb8f",
   "metadata": {},
   "source": [
    "example of use mean_squared_error"
   ]
  },
  {
   "cell_type": "code",
   "execution_count": null,
   "id": "dc7979b0",
   "metadata": {},
   "outputs": [],
   "source": [
    "from sklearn.metrics import mean_squared_error\n",
    "\n",
    "inferred_body_mass = linear_regression.predict(data)\n",
    "model_error = mean_squared_error(target, inferred_body_mass)\n",
    "print(f\"The mean squared error of the optimal model is {model_error:.2f}\")"
   ]
  },
  {
   "cell_type": "markdown",
   "id": "e99dfe1f",
   "metadata": {},
   "source": [
    "example of use mean_absolute_error "
   ]
  },
  {
   "cell_type": "code",
   "execution_count": null,
   "id": "61072f7e",
   "metadata": {},
   "outputs": [],
   "source": [
    "from sklearn.metrics import mean_absolute_error\n",
    "\n",
    "model_error = mean_absolute_error(target, inferred_body_mass)\n",
    "print(f\"The mean absolute error of the optimal model is {model_error:.2f} g\")"
   ]
  },
  {
   "cell_type": "code",
   "execution_count": 1,
   "id": "4b164567",
   "metadata": {},
   "outputs": [
    {
     "name": "stdout",
     "output_type": "stream",
     "text": [
      "coef_: [1.]\n",
      "coef_ shape: (1,)\n",
      "intercept_: 4.440892098500626e-16\n"
     ]
    }
   ],
   "source": [
    "from sklearn.linear_model import LinearRegression\n",
    "\n",
    "model = LinearRegression()\n",
    "\n",
    "# data with two rows and a single column, i.e. two samples and a single feature\n",
    "data = [[1], [2]]\n",
    "target = [1, 2]\n",
    "\n",
    "model.fit(data, target)\n",
    "\n",
    "print(f'coef_: {model.coef_}')\n",
    "print(f'coef_ shape: {model.coef_.shape}')\n",
    "print(f'intercept_: {model.intercept_}')"
   ]
  },
  {
   "cell_type": "markdown",
   "id": "2ebc31d5",
   "metadata": {},
   "source": [
    "to plot the data and the prediction of the linear regression model - example"
   ]
  },
  {
   "cell_type": "code",
   "execution_count": null,
   "id": "60f9cdd4",
   "metadata": {},
   "outputs": [],
   "source": [
    "from sklearn.linear_model import LinearRegression\n",
    "import matplotlib.pyplot as plt\n",
    "import seaborn as sns\n",
    "\n",
    "date_reshape = data.reshape(-1, 1)\n",
    "linear_regression = LinearRegression()\n",
    "linear_regression.fit(date_reshape , target)\n",
    "\n",
    "predictions = linear_regression.predict(date_reshape)\n",
    "\n",
    "ax = sns.scatterplot(data=full_data, x=\"data\", y=\"target\", color=\"black\",\n",
    "                     alpha=0.5)\n",
    "_ = ax.plot(date_reshape , predictions)\n",
    "_ = plt.title(\"Model using LinearRegression from scikit-learn\")"
   ]
  }
 ],
 "metadata": {
  "kernelspec": {
   "display_name": "Python 3",
   "language": "python",
   "name": "python3"
  },
  "language_info": {
   "codemirror_mode": {
    "name": "ipython",
    "version": 3
   },
   "file_extension": ".py",
   "mimetype": "text/x-python",
   "name": "python",
   "nbconvert_exporter": "python",
   "pygments_lexer": "ipython3",
   "version": "3.8.8"
  }
 },
 "nbformat": 4,
 "nbformat_minor": 5
}
